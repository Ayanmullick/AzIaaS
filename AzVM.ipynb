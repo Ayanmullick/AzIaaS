{
 "cells": [
  {
   "cell_type": "code",
   "execution_count": 3,
   "id": "288416e5",
   "metadata": {
    "collapsed": true,
    "jupyter": {
     "source_hidden": true
    },
    "polyglot_notebook": {
     "kernelName": "pwsh"
    }
   },
   "outputs": [],
   "source": [
    "#!pwsh\n",
    "function ConvertFrom-MdTable {param([string]$MdTable)\n",
    "    $lines = $MdTable -split \"`r?`n\"\n",
    "    $headers = ($lines[0] -split '\\|') | ForEach-Object { $_.Trim() } | Where-Object { $_ }\n",
    "    $lines[2..($lines.Length - 1)] | ForEach-Object {\n",
    "        $cells = ($_ -split '\\|') | ForEach-Object { $_.Trim() } | Where-Object { $_ }\n",
    "        $obj = @{}\n",
    "        for ($i = 0; $i -lt $headers.Count; $i++) {\n",
    "            $obj[$headers[$i]] = $cells[$i]\n",
    "        }\n",
    "        [PSCustomObject]$obj\n",
    "    }\n",
    "}"
   ]
  },
  {
   "cell_type": "code",
   "execution_count": null,
   "id": "0655e5bc",
   "metadata": {
    "polyglot_notebook": {
     "kernelName": "pwsh"
    }
   },
   "outputs": [],
   "source": [
    "#$Host.UI.RawUI.BufferSize = New-Object Management.Automation.Host.Size(127, $Host.UI.RawUI.BufferSize.Height)\n",
    "Get-AzContext"
   ]
  },
  {
   "cell_type": "code",
   "execution_count": null,
   "id": "b624a329",
   "metadata": {
    "polyglot_notebook": {
     "kernelName": "pwsh"
    }
   },
   "outputs": [
    {
     "name": "stdout",
     "output_type": "stream",
     "text": [
      "\n",
      "\u001b[32;1mImage                                                   \u001b[0m\u001b[32;1m VMName \u001b[0m\u001b[32;1m Subnet \u001b[0m\u001b[32;1m VNet    \u001b[0m\u001b[32;1m Size\u001b[0m\n",
      "\u001b[32;1m-----                                                   \u001b[0m \u001b[32;1m------ \u001b[0m \u001b[32;1m------ \u001b[0m \u001b[32;1m----    \u001b[0m \u001b[32;1m----\u001b[0m\n",
      "MicrosoftWindowsDesktop:Windows-11:win11-23h2-ent:latest TestVm1 default TestVmVn Standard_D2as_v5\n",
      "MicrosoftWindowsDesktop:Windows-11:win11-24h2-ent:latest TestVm2 default TestVmVn Standard_D2as_v5\n",
      "\n"
     ]
    }
   ],
   "source": [
    "# Markdown table with each VM parameters in a row\n",
    "$table = @\"\n",
    "| VMName   | Size              | Subnet  | VNet       | Image                                                   |\n",
    "|----------|-------------------|---------|------------|---------------------------------------------------------|\n",
    "| TestVm1  | Standard_D2as_v5  | default | TestVmVn   | MicrosoftWindowsDesktop:Windows-11:win11-23h2-ent:latest |\n",
    "| TestVm2  | Standard_D2as_v5  | default | TestVmVn   | MicrosoftWindowsDesktop:Windows-11:win11-24h2-ent:latest |\n",
    "\"@\n",
    "\n",
    "$VMs = ConvertFrom-MdTable -MdTable $Table\n",
    "$VMs | Format-Table"
   ]
  },
  {
   "cell_type": "code",
   "execution_count": null,
   "id": "680ef84c",
   "metadata": {
    "polyglot_notebook": {
     "kernelName": "pwsh"
    }
   },
   "outputs": [
    {
     "name": "stdout",
     "output_type": "stream",
     "text": [
      "You can reference https://aka.ms/findImagePS on how to find VM Images using PowerShell.\r\n"
     ]
    },
    {
     "data": {
      "text/plain": []
     },
     "metadata": {},
     "output_type": "display_data"
    },
    {
     "name": "stdout",
     "output_type": "stream",
     "text": [
      "\n",
      "\n",
      "ResourceGroupName        : TestVmRg\n",
      "Id                       : /subscriptions/<>/resourceGroups/TestVmRg/providers/Microsoft.Com\n",
      "pute/virtualMachines/TestVm1\n",
      "VmId                     : e8a78f01-7e85-4ce4-833e-e23644c7b12a\n",
      "Name                     : TestVm1\n",
      "Type                     : Microsoft.Compute/virtualMachines\n",
      "Location                 : northcentralus\n",
      "Tags                     : {}\n",
      "HardwareProfile          : {VmSize}\n",
      "NetworkProfile           : {NetworkInterfaces}\n",
      "OSProfile                : {ComputerName, AdminUsername, WindowsConfiguration, Secrets, AllowExtensionOperations, \n",
      "RequireGuestProvisionSignal}\n",
      "ProvisioningState        : Succeeded\n",
      "StorageProfile           : {ImageReference, OsDisk, DataDisks, DiskControllerType}\n",
      "FullyQualifiedDomainName : testvm1-5cf25b.NorthCentralUS.cloudapp.azure.com\n",
      "TimeCreated              : 4/2/2025 3:18:00 AM\n",
      "Etag                     : \"2\"\n",
      "\n",
      "You can reference https://aka.ms/findImagePS on how to find VM Images using PowerShell.\n",
      "\n",
      "ResourceGroupName        : TestVmRg\n",
      "Id                       : /subscriptions/<>/resourceGroups/TestVmRg/providers/Microsoft.Com\n",
      "pute/virtualMachines/TestVm2\n",
      "VmId                     : 1ecfaf1a-137d-4d99-a24b-88005ee70299\n",
      "Name                     : TestVm2\n",
      "Type                     : Microsoft.Compute/virtualMachines\n",
      "Location                 : northcentralus\n",
      "Tags                     : {}\n",
      "HardwareProfile          : {VmSize}\n",
      "NetworkProfile           : {NetworkInterfaces}\n",
      "OSProfile                : {ComputerName, AdminUsername, WindowsConfiguration, Secrets, AllowExtensionOperations, \n",
      "RequireGuestProvisionSignal}\n",
      "ProvisioningState        : Succeeded\n",
      "StorageProfile           : {ImageReference, OsDisk, DataDisks, DiskControllerType}\n",
      "FullyQualifiedDomainName : testvm2-d1624d.NorthCentralUS.cloudapp.azure.com\n",
      "TimeCreated              : 4/2/2025 3:20:07 AM\n",
      "Etag                     : \"2\"\n",
      "\n",
      "\n"
     ]
    }
   ],
   "source": [
    "$AzParams     = @{Location = 'NorthCentralUS'; ResourceGroupName  = 'TestVmRg';  AllocationMethod = 'Static'}\n",
    "$DeleteOption = @{NetworkInterfaceDeleteOption = 'Delete';OSDiskDeleteOption = 'Delete'; DataDiskDeleteOption = 'Delete'}\n",
    "$cred         = New-Object System.Management.Automation.PSCredential \"<>\",$(ConvertTo-SecureString '<>' -asplaintext -force)\n",
    "\n",
    "$VMs | ForEach-Object {\n",
    "    New-AzVM @AzParams @DeleteOption -Name $_.VMName -Size $_.Size -Image $_.Image -Credential $cred -SubnetName $_.Subnet -VirtualNetworkName $_.VNet\n",
    "}\n"
   ]
  }
 ],
 "metadata": {
  "kernelspec": {
   "display_name": ".NET (PowerShell)",
   "language": "PowerShell",
   "name": ".net-pwsh"
  },
  "language_info": {
   "name": "polyglot-notebook"
  },
  "polyglot_notebook": {
   "kernelInfo": {
    "defaultKernelName": "pwsh",
    "items": [
     {
      "aliases": [],
      "languageName": "pwsh",
      "name": "pwsh"
     }
    ]
   }
  }
 },
 "nbformat": 4,
 "nbformat_minor": 5
}
